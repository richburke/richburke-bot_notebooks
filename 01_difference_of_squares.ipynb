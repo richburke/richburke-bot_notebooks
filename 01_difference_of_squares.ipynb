{
 "cells": [
  {
   "cell_type": "markdown",
   "metadata": {},
   "source": [
    "# A Visual Proof: Difference of Squares"
   ]
  },
  {
   "cell_type": "markdown",
   "metadata": {},
   "source": [
    "From time to time I'd read about geniuses for whom it wasn't sufficient just to be told by a teacher that something was so; they needed to prove it for themselves. Not I. If a teacher told me something, that was sufficient. Still, in my defense, sometimes a topic would trigger a \"huh, I wonder why that is?\" This is an example of one of those.\n",
    "\n",
    "Though long lost in memory, I was reminded of that flicker of curiousity when I came across [this neat little post](https://www.futilitycloset.com/2024/12/15/tidy-2/). What follows is a `Jupyter Notebook` + animated `ipycanvas` implementation of that post.\n",
    "\n",
    "#### Steps\n",
    "1. [Imports](#imports)\n",
    "1. [Constants](#constants)\n",
    "1. [Draw functions for each step](#step-draw-functions)\n",
    "1. [Animation updaters](#updaters)\n",
    "1. [Creating the elements](#elements)\n",
    "1. [Defining the layout and displaying it](#display)"
   ]
  },
  {
   "cell_type": "markdown",
   "metadata": {},
   "source": [
    "#### Imports\n",
    "<a id=\"imports\"></a>Included in the list of imports are two custom modules, both of which can be found in the local `utils/` package. The first is `CanvasRenderer`. It provides convenience methods for updating the canvas. The second is the `RenderUtils` class. We use it in each of the step `draw()` functions. Unless you're interested, you don't need to worry about either of these. Their underlying and common purpose is to hide the nitty-gritties of drawing to the canvas."
   ]
  },
  {
   "cell_type": "code",
   "execution_count": 1,
   "metadata": {},
   "outputs": [],
   "source": [
    "from IPython.display import display\n",
    "from ipycanvas import RoughCanvas, hold_canvas\n",
    "from ipywidgets import HBox, HTML, IntSlider, jslink, Layout, Play, VBox\n",
    "from utils.graphics.canvas_renderer import CanvasRenderer\n",
    "from utils.notebooks.difference_of_squares import CANVAS_HEIGHT, CANVAS_WIDTH, Color, PLOT_CONTENT_B_DIMENSION, RenderUtils"
   ]
  },
  {
   "cell_type": "markdown",
   "metadata": {},
   "source": [
    "#### Constants\n",
    "<a id=\"constants\"></a>We'll define some constants used in the animation. Additional constants and an enum are imported from the utility module, above."
   ]
  },
  {
   "cell_type": "code",
   "execution_count": 2,
   "metadata": {},
   "outputs": [],
   "source": [
    "ANIMATION_START_STEP = 1\n",
    "ANIMATION_MAX_STEPS = 6\n",
    "ANIMATION_INTERVAL = 2000 # The pause before progessing to the next frame"
   ]
  },
  {
   "cell_type": "markdown",
   "metadata": {},
   "source": [
    "#### Draw functions for each step\n",
    "<a id=\"step-draw-functions\"></a>For each step of the animation, we need to draw the appropriate representation. Here's where we make use of the methods defined in `RenderUtils`."
   ]
  },
  {
   "cell_type": "code",
   "execution_count": 3,
   "metadata": {},
   "outputs": [],
   "source": [
    "def draw_step1():\n",
    "    with hold_canvas():\n",
    "        (RenderUtils\n",
    "            .clear()\n",
    "            .a_rect()\n",
    "            .b_rect()\n",
    "            .a_bar()\n",
    "            .b_border()\n",
    "            .a_plus_b_border()\n",
    "            .label_a_top()\n",
    "            .label_a_left()\n",
    "            .label_b_box_right()\n",
    "            .label_b_box_bottom()\n",
    "            .b_box_snip())\n",
    "\n",
    "\n",
    "def draw_step2():\n",
    "    with hold_canvas():\n",
    "        (RenderUtils\n",
    "            .clear()\n",
    "            .a_minus_b()\n",
    "            .a_bar()\n",
    "            .a_minus_b_line()\n",
    "            .label_a_top()\n",
    "            .label_a_left()\n",
    "            .label_b_left()\n",
    "            .label_b_right()\n",
    "            .label_a_minus_b_right()\n",
    "            .label_a_minus_b_bottom()\n",
    "            .a_minus_b_snip())\n",
    "\n",
    "\n",
    "def draw_step3():\n",
    "    b_offset = 15\n",
    "    with hold_canvas():\n",
    "        (RenderUtils\n",
    "            .clear()\n",
    "            .a_minus_b_rect()\n",
    "            .b_rect_horizontal(b_offset)\n",
    "            .label_a_top()\n",
    "            .label_b_left(b_offset)\n",
    "            .label_b_right(b_offset)\n",
    "            .label_a_minus_b_left()\n",
    "            .label_a_minus_b_right()\n",
    "            .label_a_minus_b_bottom(b_offset))\n",
    "\n",
    "\n",
    "def draw_step4():\n",
    "    b_offset = 15\n",
    "    with hold_canvas():\n",
    "        (RenderUtils\n",
    "            .clear()\n",
    "            .a_minus_b_rect()\n",
    "            .b_rect_vertical(b_offset)\n",
    "            .label_a_top()\n",
    "            .label_a_bottom()\n",
    "            .label_b_top(b_offset)\n",
    "            .label_b_bottom(b_offset)\n",
    "            .label_a_minus_b_left()\n",
    "            .label_a_minus_b_right(PLOT_CONTENT_B_DIMENSION + b_offset))\n",
    "\n",
    "\n",
    "def draw_step5():\n",
    "    with hold_canvas():\n",
    "        (RenderUtils\n",
    "            .clear()\n",
    "            .a_plus_b_rect()\n",
    "            .a_plus_b_line()\n",
    "            .a_plus_b_paste()\n",
    "            .label_a_top()\n",
    "            .label_a_bottom()\n",
    "            .label_b_top()\n",
    "            .label_b_bottom()\n",
    "            .label_a_minus_b_left()\n",
    "            .label_a_minus_b_right(PLOT_CONTENT_B_DIMENSION))\n",
    "\n",
    "\n",
    "def draw_step6():\n",
    "    with hold_canvas():\n",
    "        (RenderUtils\n",
    "            .clear()\n",
    "            .a_plus_b_rect()\n",
    "            .label_a_minus_b_left()\n",
    "            .label_a_minus_b_right(PLOT_CONTENT_B_DIMENSION)\n",
    "            .label_a_plus_b_top()\n",
    "            .label_a_plus_b_bottom())\n"
   ]
  },
  {
   "cell_type": "markdown",
   "metadata": {},
   "source": [
    "#### Animation updaters\n",
    "<a id=\"updaters\"></a>There two elements we want to update at each animation step. The most obvious of course is the canvas. The other is the title.\n",
    "\n",
    "[`Jupyter Widgets`](https://ipywidgets.readthedocs.io/en/stable/) commonly make use of the [Observer Pattern](https://en.wikipedia.org/wiki/Observer_pattern). In our case, when the slider changes its value (or has its value changed), the associated observer will invoke our `update_step()` function. That plucks the current step value and sends it along to our display function, `update_display()`."
   ]
  },
  {
   "cell_type": "code",
   "execution_count": 4,
   "metadata": {},
   "outputs": [],
   "source": [
    "def update_step(update):\n",
    "    def fn(change):\n",
    "        value = change['new']\n",
    "        update(value)\n",
    "    return fn\n",
    "\n",
    "def update_title(title, step):\n",
    "    left_side = 'a<sup>2</sup> - b<sup>2</sup></span>'\n",
    "    right_side = '(a + b)(a - b)'\n",
    "\n",
    "    # Highlight the relevant part of the equation.\n",
    "    if step in (1, 2):\n",
    "        left_side = f'<span style=\"font-weight: bold; color: {Color.BLUE.value}\">{left_side}</span>'\n",
    "    if step in (5, 6):\n",
    "        right_side = f'<span style=\"font-weight: bold; color: {Color.BLUE.value}\">{right_side}</span>'\n",
    "\n",
    "    title.value = f'''<div style=\"margin-bottom: 12px;\">\n",
    "        <h2 style=\"font-weight: normal; color: {Color.GRAY.value}\">{left_side} = {right_side}</h2>\n",
    "        </div>'''\n",
    "\n",
    "def update_canvas(step):\n",
    "    match step:\n",
    "        case 2:\n",
    "            draw_step2()\n",
    "        case 3:\n",
    "            draw_step3()\n",
    "        case 4:\n",
    "            draw_step4()\n",
    "        case 5:\n",
    "            draw_step5()\n",
    "        case 6:\n",
    "            draw_step6()\n",
    "        case _:\n",
    "            draw_step1()\n",
    "\n",
    "\n",
    "def update_display(title):\n",
    "    def fn(step):\n",
    "        CanvasRenderer.restore(CanvasRenderer.defaults())\n",
    "        update_title(title, step)\n",
    "        update_canvas(step)\n",
    "    return fn\n"
   ]
  },
  {
   "cell_type": "markdown",
   "metadata": {},
   "source": [
    "#### Creating the elements\n",
    "<a id=\"elements\"></a>Our presentation is comprised of 4 elements: the title, the canvas, the slider control, and the animation control. The title, slider, and animation control come from [`Jupyter Widgets`](https://ipywidgets.readthedocs.io/en/stable/). The canvas comes from [`ipycanvas`](https://ipycanvas.readthedocs.io/en/latest/).\n",
    "\n",
    "The animation control, as it plays, updates the value of the slider. The slider&mdash;in turn and as noted above&mdash;observes updates, kicking off the sequence for the current step value."
   ]
  },
  {
   "cell_type": "code",
   "execution_count": 5,
   "metadata": {},
   "outputs": [],
   "source": [
    "title = HTML(\n",
    "    value='<h2 style=\"font-weight: normal;\"><span style=\"font-weight: bold\">a<sup>2</sup> - b<sup>2</sup></span> <span style=\"color: #555\">= (a + b)(a - b)</span></h2>',\n",
    ")\n",
    "\n",
    "canvas = RoughCanvas(width=CANVAS_WIDTH, height=CANVAS_HEIGHT)\n",
    "CanvasRenderer.set_canvas(canvas)\n",
    "CanvasRenderer.set_defaults({\n",
    "    'font': canvas.font,\n",
    "    'fill_style': canvas.fill_style,\n",
    "    'stroke_style': canvas.stroke_style,\n",
    "    'line_dash': canvas.get_line_dash(),\n",
    "})\n",
    "RenderUtils.set_renderer(CanvasRenderer)\n",
    "\n",
    "slider = IntSlider(\n",
    "    description=\"Step\",\n",
    "    value=ANIMATION_START_STEP,\n",
    "    min=1,\n",
    "    max=ANIMATION_MAX_STEPS\n",
    ")\n",
    "update = update_step(update_display(title))\n",
    "slider.observe(update, names=\"value\")\n",
    "\n",
    "play = Play(\n",
    "    interval=ANIMATION_INTERVAL,\n",
    "    value=ANIMATION_START_STEP,\n",
    "    min=1,\n",
    "    max=ANIMATION_MAX_STEPS,\n",
    "    step=1,\n",
    "    description=\"Step\",\n",
    "    disabled=False,\n",
    "    repeat=True\n",
    ")\n",
    "jslink((play, 'value'), (slider, 'value')); # The ; semicolon suppresses a print out of the type of object."
   ]
  },
  {
   "cell_type": "markdown",
   "metadata": {},
   "source": [
    "#### Defining the layout and displaying it\n",
    "<a id=\"display\"></a>Now that the individual elements have been defined and created, let's put them into a layout and display them!"
   ]
  },
  {
   "cell_type": "code",
   "execution_count": 6,
   "metadata": {},
   "outputs": [
    {
     "data": {
      "application/vnd.jupyter.widget-view+json": {
       "model_id": "7714441b1b1a404a94da2fbf46ce86b2",
       "version_major": 2,
       "version_minor": 0
      },
      "text/plain": [
       "VBox(children=(HBox(children=(HTML(value='<div style=\"margin-bottom: 12px;\">\\n        <h2 style=\"font-weight: …"
      ]
     },
     "metadata": {},
     "output_type": "display_data"
    }
   ],
   "source": [
    "update({'new': ANIMATION_START_STEP}) # Show step 1 by default\n",
    "layout = VBox([\n",
    "    HBox([title], layout=Layout(width='100%', justify_content='center')),\n",
    "    HBox([play, slider], layout=Layout(width='100%', justify_content='center')),\n",
    "    HBox([canvas], layout=Layout(width='100%', justify_content='center')),\n",
    "])\n",
    "display(layout)\n"
   ]
  }
 ],
 "metadata": {
  "kernelspec": {
   "display_name": "Python 3 (ipykernel)",
   "language": "python",
   "name": "python3"
  },
  "language_info": {
   "codemirror_mode": {
    "name": "ipython",
    "version": 3
   },
   "file_extension": ".py",
   "mimetype": "text/x-python",
   "name": "python",
   "nbconvert_exporter": "python",
   "pygments_lexer": "ipython3",
   "version": "3.10.12"
  }
 },
 "nbformat": 4,
 "nbformat_minor": 4
}
